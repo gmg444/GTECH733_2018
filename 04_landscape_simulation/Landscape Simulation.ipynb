{
 "cells": [
  {
   "cell_type": "markdown",
   "metadata": {},
   "source": [
    "## Landscape Simulation\n",
    "\n",
    "This notebook outlines a few methods related to methods of landscape simulation.  These include basic cellular automata, probabilistic cellular automata, sampling from probability distributions, Markov model and spatial Markov models.\n",
    "\n",
    "The Game of Life and similar cellular automata, with synchronous update, can be programmed simply using logic like the following:"
   ]
  },
  {
   "cell_type": "code",
   "execution_count": 47,
   "metadata": {},
   "outputs": [],
   "source": [
    "import pylab as plt\n",
    "import numpy as np\n",
    "from IPython.core.display import display, HTML\n",
    "import warnings\n",
    "warnings.filterwarnings('ignore')\n",
    "import imageio\n",
    "import os\n",
    "\n",
    "# Game of life rules:\n",
    "# 1.Any live cell with fewer than two live neighbours dies, as if caused by under-population.\n",
    "# 2.Any live cell with two or three live neighbours lives on to the next generation.\n",
    "# 3.Any live cell with more than three live neighbours dies, as if by overcrowding.\n",
    "# 4.Any dead cell with exactly three live neighbours becomes a live cell, as if by reproduction.\n",
    "\n",
    "# Assumes t is a binary array, 0=off, 1=on, x and y are coordinate within t.\n",
    "def get_new_state(t, x, y):\n",
    "    \n",
    "    # Default is for cell to stay the same\n",
    "    new_state = t[x, y]\n",
    "    \n",
    "    # Count adjacent on cells, skipping edges.\n",
    "    num_adjacent_on = 0\n",
    "    if (x > 0) and (x < t.shape[1]-1) and (y > 0) and (y < t.shape[0]-1):\n",
    "    \n",
    "        # Loop around neighboring pixels\n",
    "        for i in range(x-1, x+2):\n",
    "            for j in range(y-1, y+2):\n",
    "                if (i != x) or (j != y):\n",
    "                    num_adjacent_on += t[i, j]\n",
    "\n",
    "        if t[x, y] == 1: # This is a live cell\n",
    "            if num_adjacent_on < 2:\n",
    "                new_state = 0\n",
    "            if num_adjacent_on > 3:\n",
    "                new_state = 0\n",
    "\n",
    "        if t[x, y] == 0: # this is a dead cell\n",
    "            if num_adjacent_on == 3:\n",
    "                new_state = 1\n",
    "\n",
    "    return new_state"
   ]
  },
  {
   "cell_type": "markdown",
   "metadata": {},
   "source": [
    "The following function takes care of some of the overhead by generating a random raster and iterating through the cells applying the get_new_state rule."
   ]
  },
  {
   "cell_type": "code",
   "execution_count": 55,
   "metadata": {
    "collapsed": true
   },
   "outputs": [],
   "source": [
    "def run_ca():\n",
    "    # Generate input rasters in 2 dimensions\n",
    "    dim = 50\n",
    "    t0 = np.zeros((dim, dim))\n",
    "    t1 = np.zeros((dim, dim))\n",
    "\n",
    "    # Initialize to random on/off states\n",
    "    t0 = np.random.random(size=(dim, dim))\n",
    "    t0 = (t0 < 0.2).astype(dtype=np.uint8)\n",
    "    file_names = []\n",
    "    for i in range(10):\n",
    "        # Update all cells\n",
    "        for x in range(dim):\n",
    "            for y in range(dim):\n",
    "                t1[x, y] = get_new_state(t0, x, y)\n",
    "        t0 = t1.copy()  # assignment is by reference; we want a separate copy, so use np.copy.\n",
    "        # Show/save the current file\n",
    "        plt.matshow(t1,fignum=100,cmap=plt.cm.gray)\n",
    "        file_name = '{0}.png'.format(i)    \n",
    "        plt.savefig(file_name)\n",
    "        file_names.append(file_name)\n",
    "\n",
    "    # Assemble into animation - requires imageio\n",
    "    images = []\n",
    "    for filename in file_names:\n",
    "        images.append(imageio.imread(filename))\n",
    "    movie_name = \"./movie_\" + str(np.random.randint(100000)) + \".gif\"\n",
    "    imageio.mimsave(movie_name, images)\n",
    "    # Clean up\n",
    "    for filename in file_names:\n",
    "        os.remove(filename)\n",
    "    display(HTML('<img src=\"' + movie_name + '\">'))"
   ]
  },
  {
   "cell_type": "code",
   "execution_count": 48,
   "metadata": {},
   "outputs": [
    {
     "data": {
      "text/html": [
       "<img src=\"./movie_89603.gif\">"
      ],
      "text/plain": [
       "<IPython.core.display.HTML object>"
      ]
     },
     "metadata": {},
     "output_type": "display_data"
    }
   ],
   "source": [
    "run_ca()"
   ]
  },
  {
   "cell_type": "markdown",
   "metadata": {},
   "source": [
    "We can try experimenting with different rules, for example, voter model - picking the most commonly-found neighbor:"
   ]
  },
  {
   "cell_type": "code",
   "execution_count": 54,
   "metadata": {},
   "outputs": [
    {
     "data": {
      "text/html": [
       "<img src=\"./movie_81732.gif\">"
      ],
      "text/plain": [
       "<IPython.core.display.HTML object>"
      ]
     },
     "metadata": {},
     "output_type": "display_data"
    }
   ],
   "source": [
    "# Replaces the game of life rules with voter model.\n",
    "def get_new_state(t, x, y):\n",
    "    \n",
    "    # Default is for cell to stay the same\n",
    "    new_state = t[x, y]\n",
    "    \n",
    "    # Count adjacent on cells, skipping edges.\n",
    "    num_adjacent_on = 0\n",
    "    if (x > 0) and (x < t.shape[1]-1) and (y > 0) and (y < t.shape[0]-1):\n",
    "    \n",
    "        # Variation on basic model - select randomly from among neighbors:\n",
    "        selection = np.random.randint(8)\n",
    "        neighbors = []\n",
    "        for i in range(x-1, x+2):\n",
    "            for j in range(y-1, y+2):\n",
    "                if (i != x) or (j != y):\n",
    "                    neighbors.append(t[i, j])\n",
    "        new_state = neighbors[selection]\n",
    "    return new_state\n",
    "\n",
    "run_ca()"
   ]
  },
  {
   "cell_type": "markdown",
   "metadata": {},
   "source": [
    "Or, only expanding:"
   ]
  },
  {
   "cell_type": "code",
   "execution_count": 56,
   "metadata": {},
   "outputs": [
    {
     "data": {
      "text/html": [
       "<img src=\"./movie_3027.gif\">"
      ],
      "text/plain": [
       "<IPython.core.display.HTML object>"
      ]
     },
     "metadata": {},
     "output_type": "display_data"
    }
   ],
   "source": [
    "def get_new_state(t, x, y):\n",
    "    \n",
    "    # Default is for cell to stay the same\n",
    "    new_state = t[x, y]\n",
    "    \n",
    "    # Count adjacent on cells, skipping edges.\n",
    "    num_adjacent_on = 0\n",
    "    if (x > 0) and (x < t.shape[1]-1) and (y > 0) and (y < t.shape[0]-1):\n",
    "    \n",
    "        # Variation on basic model - select randomly from among neighbors:\n",
    "        selection = np.random.randint(8)\n",
    "        neighbors = []\n",
    "        for i in range(x-1, x+2):\n",
    "            for j in range(y-1, y+2):\n",
    "                if (i != x) or (j != y):\n",
    "                    neighbors.append(t[i, j])\n",
    "        if neighbors[selection]:\n",
    "            new_state = neighbors[selection]\n",
    "    return new_state\n",
    "\n",
    "run_ca()"
   ]
  },
  {
   "cell_type": "markdown",
   "metadata": {},
   "source": [
    "Or, a probabilistic version, where probability is determined by the number of adjacent cells, the more cells are on, the higher the probability:"
   ]
  },
  {
   "cell_type": "code",
   "execution_count": 64,
   "metadata": {},
   "outputs": [
    {
     "data": {
      "text/html": [
       "<img src=\"./movie_31488.gif\">"
      ],
      "text/plain": [
       "<IPython.core.display.HTML object>"
      ]
     },
     "metadata": {},
     "output_type": "display_data"
    }
   ],
   "source": [
    "def get_new_state(t, x, y):\n",
    "    \n",
    "    # Default is for cell to stay the same\n",
    "    new_state = t[x, y]\n",
    "    \n",
    "    # Count adjacent on cells, skipping edges.\n",
    "    num_adjacent_on = 0\n",
    "    p = [i * 0.01 for i in range(9)]\n",
    "    if (x > 0) and (x < t.shape[1]-1) and (y > 0) and (y < t.shape[0]-1):\n",
    "        for i in range(x-1, x+2):\n",
    "            for j in range(y-1, y+2):\n",
    "                if (i != x) or (j != y):\n",
    "                    num_adjacent_on += int(t[i, j])\n",
    "        if np.random.random() < p[num_adjacent_on]:\n",
    "            new_state = 1\n",
    "    return new_state\n",
    "\n",
    "run_ca()"
   ]
  },
  {
   "cell_type": "markdown",
   "metadata": {},
   "source": [
    "Adding a probabilistic element can improve the realism of these kinds of models.  Before we get to this, it may be helpful to look at how to deal with sampling probability distributions."
   ]
  },
  {
   "cell_type": "code",
   "execution_count": 80,
   "metadata": {},
   "outputs": [
    {
     "data": {
      "image/png": "[encoded data removed]",
      "text/plain": [
       "<matplotlib.figure.Figure at 0x7ffa1745df28>"
      ]
     },
     "metadata": {},
     "output_type": "display_data"
    }
   ],
   "source": [
    "import numpy as np\n",
    "import matplotlib.pyplot as plt\n",
    "plt.rcParams['figure.figsize'] = (12, 8)\n",
    "\n",
    "def sample(num_samples):\n",
    "    # return np.random.random(num_samples)\n",
    "    # return np.random.normal(0, 1, num_samples)\n",
    "    # return np.random.pareto(5, num_samples)\n",
    "    # return np.random.weibull(2, num_samples)\n",
    "    # return np.random.logistic(0, 1, num_samples)\n",
    "    return np.random.exponential(2, num_samples)\n",
    "\n",
    "fig = plt.figure()\n",
    "\n",
    "p = fig.add_subplot(411)\n",
    "p.hist(sample(100), 50)\n",
    "\n",
    "p = fig.add_subplot(412)\n",
    "p.hist(sample(1000), 50)\n",
    "\n",
    "p = fig.add_subplot(413)\n",
    "p.hist(sample(10000), 50)\n",
    "\n",
    "p = fig.add_subplot(414)\n",
    "p.hist(sample(100000), 50)\n",
    "\n",
    "plt.show()"
   ]
  },
  {
   "cell_type": "markdown",
   "metadata": {},
   "source": [
    "This gives us access to a certain range of distributions.  We can also generate samples by transforming the results of a uniform distribution. One way of accomplishing this transformation is to draw a random uniform sample between zero and one, and then find the function that would generate that value, or the inverse of the function.\n",
    "\n",
    "https://en.wikipedia.org/wiki/Inverse_transform_sampling\n",
    "\n",
    "Here's a simple example with the exponential distribution:\n",
    "\n",
    "\n",
    "https://docs.scipy.org/doc/numpy-1.14.0/reference/generated/numpy.random.exponential.html"
   ]
  },
  {
   "cell_type": "code",
   "execution_count": 105,
   "metadata": {},
   "outputs": [
    {
     "data": {
      "image/png": "[encoded data removed]",
      "text/plain": [
       "<matplotlib.figure.Figure at 0x7ffa172ede48>"
      ]
     },
     "metadata": {},
     "output_type": "display_data"
    }
   ],
   "source": [
    "def sample_np(num_samples):\n",
    "    return np.random.exponential(size=num_samples)\n",
    "\n",
    "def sample_function(num_samples):\n",
    "    x = np.random.random(num_samples) # Sample from uniform disribution (0 to 1)\n",
    "    return np.exp(x) \n",
    "\n",
    "def sample_inverse(num_samples):\n",
    "    x = np.random.random(num_samples) # Sample from uniform disribution (0 to 1)\n",
    "    return -np.log(x) # Inverse of exponential\n",
    "    \n",
    "fig = plt.figure()\n",
    "p = fig.add_subplot(311)\n",
    "p.hist(sample_np(1000000), 50)\n",
    "\n",
    "p = fig.add_subplot(312)\n",
    "p.hist(sample_function(1000000), 50)\n",
    "\n",
    "p = fig.add_subplot(313)\n",
    "p.hist(sample_inverse(1000000), 50)\n",
    "plt.show()"
   ]
  },
  {
   "cell_type": "markdown",
   "metadata": {},
   "source": [
    "For a emprical distribution gathered by counting discrete values (e.g., landcover types), we can count the number in each bin, and sample values by mapping uniform numbers to those bin sizes.  For example:"
   ]
  },
  {
   "cell_type": "code",
   "execution_count": 117,
   "metadata": {},
   "outputs": [
    {
     "data": {
      "image/png": "[encoded data removed]",
      "text/plain": [
       "<matplotlib.figure.Figure at 0x7ffa2e7a3278>"
      ]
     },
     "metadata": {},
     "output_type": "display_data"
    }
   ],
   "source": [
    "# Values, e.g., landcover type labels\n",
    "values = np.array([1, 2, 3, 4, 5, 6, 7, 8, 9, 10])\n",
    "\n",
    "# Empirical count, e.g., number of values per category\n",
    "counts = np.array([100., 20., 5., 800., 200., 300., 5000., 10., 300., 500.])\n",
    "\n",
    "# Transformed to probability (summing to 1)\n",
    "distribution = counts / counts.sum()\n",
    "\n",
    "def sample(num_samples):    \n",
    "    result = []\n",
    "    # Drawing samples with the same distribution as the original counts\n",
    "    for i in range(num_samples):\n",
    "        acc = 0\n",
    "        # Draw a random number between zero and one\n",
    "        threshold = np.random.rand()\n",
    "        for j in range(distribution.shape[0]):\n",
    "            # Sum up the values in the distribution, making it cumulative.  If the uniformly\n",
    "            # random value exceeds the cumulative total, return the value associated with \n",
    "            # the selected index.\n",
    "            acc += distribution[j]\n",
    "            if acc >= threshold:\n",
    "                result.append(values[j])\n",
    "                break\n",
    "    return result\n",
    "\n",
    "fig = plt.figure()\n",
    "p = fig.add_subplot(211)\n",
    "p.bar(values, distribution)\n",
    "\n",
    "p = fig.add_subplot(212)\n",
    "p.hist(sample(100000), 10)\n",
    "plt.show()"
   ]
  },
  {
   "cell_type": "markdown",
   "metadata": {},
   "source": [
    "Another method is to calculate a cumulative probability distribution and sample from that, which can be handy for functions that are difficult to invert.  For example, the Gaussian function is hard to invert:"
   ]
  },
  {
   "cell_type": "code",
   "execution_count": 127,
   "metadata": {},
   "outputs": [
    {
     "data": {
      "image/png": "[encoded data removed]",
      "text/plain": [
       "<matplotlib.figure.Figure at 0x7ffa168b6748>"
      ]
     },
     "metadata": {},
     "output_type": "display_data"
    }
   ],
   "source": [
    "import numpy as np\n",
    "import matplotlib.pyplot as plt\n",
    "import math\n",
    "\n",
    "\n",
    "def gaussian(x, mu, sigma):\n",
    "    exp_part = -0.5 * ((x - mu) / sigma) ** 2.0\n",
    "    denominator = sigma * math.sqrt(2.0 * math.pi)\n",
    "    result = (math.e ** exp_part) / denominator\n",
    "    return result\n",
    "\n",
    "def cumulative(dist):\n",
    "    cumulative_dist = np.zeros(dist.shape)\n",
    "    acc = 0\n",
    "    for i in range(dist.shape[0]):\n",
    "        acc += dist[i]\n",
    "        cumulative_dist[i] = acc\n",
    "    return cumulative_dist\n",
    "\n",
    "def sample(num_samples, inputs):\n",
    "    result = np.zeros((num_samples,))\n",
    "    x = np.random.random(num_samples)\n",
    "    for i in range(num_samples):\n",
    "        threshold = x[i]\n",
    "        for j in range(cumulative_dist.shape[0]):\n",
    "            if cumulative_dist[j] > threshold:\n",
    "                result[i] = inputs[j]\n",
    "                break\n",
    "    return result\n",
    "\n",
    "inputs = np.arange(-3, 3, 0.01)\n",
    "d = gaussian(inputs, 0, 1)\n",
    "dist = d / sum(d)\n",
    "cumulative_dist = cumulative(dist)\n",
    "\n",
    "fig = plt.figure()\n",
    "p = fig.add_subplot(311)\n",
    "p.bar(inputs, dist)\n",
    "\n",
    "p = fig.add_subplot(312)\n",
    "p.bar(inputs, cumulative_dist)\n",
    "\n",
    "p = fig.add_subplot(313)\n",
    "simulated = sample(500, inputs)\n",
    "p.hist(simulated)\n",
    "plt.show()"
   ]
  },
  {
   "cell_type": "markdown",
   "metadata": {},
   "source": [
    "Now, we can use sampling from distributions to do some more interesting things with our simulation - consider cells not as binary on/off, but as having either categorical class lables or containing continuous values. For example:"
   ]
  },
  {
   "cell_type": "code",
   "execution_count": 133,
   "metadata": {},
   "outputs": [
    {
     "data": {
      "text/html": [
       "<img src=\"./movie_16492.gif\">"
      ],
      "text/plain": [
       "<IPython.core.display.HTML object>"
      ]
     },
     "metadata": {},
     "output_type": "display_data"
    }
   ],
   "source": [
    "def get_new_state(t, x, y):\n",
    "    \n",
    "    # Default is for cell to stay the same\n",
    "    new_state = t[x, y]\n",
    "    \n",
    "    # Count adjacent on cells, skipping edges.\n",
    "    num_adjacent_on = 0\n",
    "    if (x > 0) and (x < t.shape[1]-1) and (y > 0) and (y < t.shape[0]-1):\n",
    "    \n",
    "        # Set cell values  as some \n",
    "        selection = np.random.randint(8)\n",
    "        random_scale = np.random.normal()\n",
    "        neighbors = []\n",
    "        for i in range(x-1, x+2):\n",
    "            for j in range(y-1, y+2):\n",
    "                if (i != x) or (j != y):\n",
    "                    neighbors.append(t[i, j])\n",
    "        if np.random.random() < 0.02:\n",
    "            new_state = neighbors[selection] * random_scale\n",
    "    return new_state\n",
    "\n",
    "run_ca()"
   ]
  },
  {
   "cell_type": "markdown",
   "metadata": {},
   "source": [
    "This gets us to the topic of sampling from distributions.  We can use Python's built-in sampling functions to sample from pre-defined functions, for example:"
   ]
  },
  {
   "cell_type": "code",
   "execution_count": null,
   "metadata": {
    "collapsed": true
   },
   "outputs": [],
   "source": []
  },
  {
   "cell_type": "code",
   "execution_count": null,
   "metadata": {
    "collapsed": true
   },
   "outputs": [],
   "source": []
  },
  {
   "cell_type": "code",
   "execution_count": null,
   "metadata": {
    "collapsed": true
   },
   "outputs": [],
   "source": []
  },
  {
   "cell_type": "code",
   "execution_count": null,
   "metadata": {
    "collapsed": true
   },
   "outputs": [],
   "source": []
  }
 ],
 "metadata": {
  "kernelspec": {
   "display_name": "Python 3",
   "language": "python",
   "name": "python3"
  },
  "language_info": {
   "codemirror_mode": {
    "name": "ipython",
    "version": 3
   },
   "file_extension": ".py",
   "mimetype": "text/x-python",
   "name": "python",
   "nbconvert_exporter": "python",
   "pygments_lexer": "ipython3",
   "version": "3.6.2"
  }
 },
 "nbformat": 4,
 "nbformat_minor": 2
}
