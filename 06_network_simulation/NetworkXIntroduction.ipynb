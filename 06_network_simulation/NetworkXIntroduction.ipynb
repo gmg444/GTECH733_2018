{
 "cells": [
  {
   "cell_type": "code",
   "execution_count": null,
   "metadata": {
    "collapsed": true
   },
   "outputs": [],
   "source": [
    "%matplotlib inline"
   ]
  },
  {
   "cell_type": "markdown",
   "metadata": {},
   "source": [
    "## NetworkX Introduction"
   ]
  },
  {
   "cell_type": "markdown",
   "metadata": {},
   "source": [
    "Next, let's look at some simple networks in NetworkX.  First, we need to **import** the <a href=\"https://networkx.github.io/\">NetworkX</a> package. NetworkX is a pure python package that makes it easier to represent graphs and network data. If we alias it as \"nx\", we can save some typing:"
   ]
  },
  {
   "cell_type": "code",
   "execution_count": null,
   "metadata": {
    "collapsed": true
   },
   "outputs": [],
   "source": [
    "import networkx as nx  \n",
    "import random as rand\n",
    "import pylab as plt"
   ]
  },
  {
   "cell_type": "markdown",
   "metadata": {},
   "source": [
    "### Simple graph\n",
    "To start, we can create a simple un-directed graph:"
   ]
  },
  {
   "cell_type": "code",
   "execution_count": null,
   "metadata": {},
   "outputs": [],
   "source": [
    "g = nx.DiGraph()\n",
    "type(g)"
   ]
  },
  {
   "cell_type": "markdown",
   "metadata": {},
   "source": [
    "And add some nodes and edges using the add_node and add_edge methods:"
   ]
  },
  {
   "cell_type": "code",
   "execution_count": null,
   "metadata": {},
   "outputs": [],
   "source": [
    "g.add_node(1)\n",
    "g.add_node(2)\n",
    "g.add_node(3)\n",
    "g.nodes()"
   ]
  },
  {
   "cell_type": "code",
   "execution_count": null,
   "metadata": {},
   "outputs": [],
   "source": [
    "g.add_edge(1,2)\n",
    "g.add_edge(2,3)\n",
    "g.add_edge(3,1)\n",
    "g.add_edge(1,3)\n",
    "print (g.edges())"
   ]
  },
  {
   "cell_type": "markdown",
   "metadata": {},
   "source": [
    "Now let's draw it with the matplotlib and networkx libraries:"
   ]
  },
  {
   "cell_type": "code",
   "execution_count": null,
   "metadata": {},
   "outputs": [],
   "source": [
    "plt.rcParams['figure.figsize'] = (5.0, 5.0)  # Sets the plot output size\n",
    "nx.draw(g)\n",
    "plt.show()  "
   ]
  },
  {
   "cell_type": "markdown",
   "metadata": {},
   "source": [
    "### Adding Data\n",
    "\n",
    "Nodes and edges can each have data asssociated with them.  NetworkX does this by associating a dictionary with each element, so, for example, we can call the same add_node / add_edge functions with a data attribute.\n",
    "\n",
    "Let's start again with an empty graph:"
   ]
  },
  {
   "cell_type": "code",
   "execution_count": null,
   "metadata": {
    "collapsed": true
   },
   "outputs": [],
   "source": [
    "g = nx.Graph()"
   ]
  },
  {
   "cell_type": "markdown",
   "metadata": {},
   "source": [
    "...and substitute state names and populations for integers:"
   ]
  },
  {
   "cell_type": "code",
   "execution_count": null,
   "metadata": {
    "collapsed": true
   },
   "outputs": [],
   "source": [
    "g.add_node(\"California\", population=38332521)\n",
    "g.add_node(\"New York\", population=26448193)\n",
    "g.add_node(\"Texas\", population=19651127)"
   ]
  },
  {
   "cell_type": "markdown",
   "metadata": {},
   "source": [
    "Let's look at the new nodes:"
   ]
  },
  {
   "cell_type": "code",
   "execution_count": null,
   "metadata": {},
   "outputs": [],
   "source": [
    "print (g.nodes())\n",
    "print (g.nodes(data=True)) # Note the data parameters tells networkx to include the node's data in the returned value."
   ]
  },
  {
   "cell_type": "markdown",
   "metadata": {},
   "source": [
    "And we can do the same thing with edges - how about 2014 interstate migration (from\n",
    "\n",
    "https://www.census.gov/hhes/migration/data/acs/state-to-state.html):"
   ]
  },
  {
   "cell_type": "code",
   "execution_count": null,
   "metadata": {},
   "outputs": [],
   "source": [
    "g.add_edge('New York', 'California', net_migration=7171)\n",
    "g.add_edge('New York', 'Texas', net_migration=6810)\n",
    "g.add_edge(\"Texas\", \"California\", net_migration=34028)\n",
    "print (g.edges(data=True))"
   ]
  },
  {
   "cell_type": "markdown",
   "metadata": {},
   "source": [
    "Now let's try including this information in our diagram.  For more information on network drawing options, see:\n",
    "\n",
    "https://networkx.readthedocs.org/en/stable/tutorial/tutorial.html#drawing-graphs\n"
   ]
  },
  {
   "cell_type": "code",
   "execution_count": null,
   "metadata": {},
   "outputs": [],
   "source": [
    "plt.rcParams['figure.figsize'] = (4.0, 4.0)\n",
    "nx.draw(g, with_labels=True)\n",
    "plt.show()"
   ]
  },
  {
   "cell_type": "markdown",
   "metadata": {},
   "source": [
    "Adding node sizes:"
   ]
  },
  {
   "cell_type": "code",
   "execution_count": null,
   "metadata": {},
   "outputs": [],
   "source": [
    "sizes = [n[1][\"population\"]/10000.0 for n in g.nodes(data=True)]\n",
    "nx.draw(g, with_labels=True, node_size=sizes)\n",
    "plt.show()"
   ]
  },
  {
   "cell_type": "markdown",
   "metadata": {},
   "source": [
    "Adding line weights:"
   ]
  },
  {
   "cell_type": "code",
   "execution_count": null,
   "metadata": {},
   "outputs": [],
   "source": [
    "widths = [m[2][\"net_migration\"]/5000 for m in g.edges(data=True)]\n",
    "nx.draw(g, with_labels=True, node_size=sizes, width=widths)\n",
    "plt.show()"
   ]
  },
  {
   "cell_type": "markdown",
   "metadata": {},
   "source": [
    "### Getting Data Out of NetworkX\n",
    "\n",
    "Usually NetworkX is used in combination with external data sources, both for input and for output. \n",
    "\n",
    "For output, NetworkX supports commonly-used graph formats that can be used by software like <a href=\"https://gephi.org/\">__Gephi__</a>, which is designed for manipulating graphs. Exporting to these formats is simply a matter of calling the applicable NetworkX function.  A list of them is available here:\n",
    "\n",
    "http://networkx.readthedocs.org/en/stable/reference/convert.html\n",
    "\n",
    "http://networkx.readthedocs.org/en/stable/reference/readwrite.html\n",
    "\n",
    "Here's an example of a random graph (more on this later), output to a file:"
   ]
  },
  {
   "cell_type": "code",
   "execution_count": null,
   "metadata": {
    "collapsed": true
   },
   "outputs": [],
   "source": [
    "g = nx.erdos_renyi_graph(10, 0.2)\n",
    "nx.write_gexf(g, \"my_network_file.gefx\")"
   ]
  },
  {
   "cell_type": "markdown",
   "metadata": {},
   "source": [
    "Let's look at the contents of the gefx format - note presense of node table and edge table:"
   ]
  },
  {
   "cell_type": "code",
   "execution_count": null,
   "metadata": {},
   "outputs": [],
   "source": [
    "with open('my_network_file.gefx','r') as f:\n",
    "    print (f.read())"
   ]
  },
  {
   "cell_type": "markdown",
   "metadata": {},
   "source": [
    "Reading is then a matter of calling the corresponding read function:"
   ]
  },
  {
   "cell_type": "code",
   "execution_count": null,
   "metadata": {},
   "outputs": [],
   "source": [
    "g2 = nx.read_gexf(\"my_network_file.gefx\")\n",
    "print ([n for n in nx.generate_edgelist(g2)])"
   ]
  },
  {
   "cell_type": "markdown",
   "metadata": {},
   "source": [
    "We can also use NetworkX to convert between different representations of graphs, for example:"
   ]
  },
  {
   "cell_type": "code",
   "execution_count": null,
   "metadata": {},
   "outputs": [],
   "source": [
    "# A dictionary of dictionarys:\n",
    "print (nx.to_dict_of_dicts(g2))"
   ]
  },
  {
   "cell_type": "code",
   "execution_count": null,
   "metadata": {},
   "outputs": [],
   "source": [
    "# A dictionary of lists:\n",
    "print (nx.to_dict_of_lists(g2))"
   ]
  },
  {
   "cell_type": "code",
   "execution_count": null,
   "metadata": {},
   "outputs": [],
   "source": [
    "# A numpy array:\n",
    "import numpy as np\n",
    "print (nx.to_numpy_matrix(g))"
   ]
  },
  {
   "cell_type": "markdown",
   "metadata": {},
   "source": [
    "Converting to numpy matrixes exposes data embedded in networkx to further analsysis and explration via matrix operations.  See Newman chapter 11 for a good introduction."
   ]
  },
  {
   "cell_type": "markdown",
   "metadata": {},
   "source": [
    "### Getting data into NetworkX\n",
    "\n",
    "Data import works similarly if the data is already in a graph-compatible format.  But, often, you may be working with tabular data, which can often be translated directly into nodes and edges.   \n",
    "\n",
    "For example, the file state_to_state.txt contains tab-delimited data on the amount of grant funding flowing between states in 2009.  Let's take a look at the contents:"
   ]
  },
  {
   "cell_type": "code",
   "execution_count": null,
   "metadata": {},
   "outputs": [],
   "source": [
    "with open('state_to_state.txt','r') as f:\n",
    "    print (f.read())"
   ]
  },
  {
   "cell_type": "markdown",
   "metadata": {},
   "source": [
    "This is simply the result of a SQL group-by.  Output from SQL queries can often be interpreted as edge lists straightforwardly.  It is simply a matter of choosing which attributes are nodes, and which are edges.  Typically, the nodes would be the group-by columns, and the edges would be determined by co-occurrence in the same row, and edge attributes by the results of aggregate functions.\n",
    "\n",
    "    select item1, item2, sum(amount) from table group by item1, item2"
   ]
  },
  {
   "cell_type": "markdown",
   "metadata": {},
   "source": [
    "### Displaying Graph Data\n",
    "\n",
    "It's possible to alter parameters to draw more revealing graphs. Just by visualizing them, it's possible to glean interesting information from the data that is hard to get otherwise. Here are some examples from Foundation Maps:\n",
    "\n",
    "https://raw.githubusercontent.com/gmg444/dgd2016/master/Constellations_ClimateChangeCalifornia.png\n",
    "\n",
    "https://raw.githubusercontent.com/gmg444/dgd2016/master/Constellations_EducationIndia.png\n",
    "\n",
    "https://raw.githubusercontent.com/gmg444/dgd2016/master/Constellations_DetroitPerformingArts.png"
   ]
  },
  {
   "cell_type": "markdown",
   "metadata": {},
   "source": [
    "The next important decision after which are nodes and which are edges, are which tabular attributes are important to represent in the graph.  In this example, you can see that the edge amount and node location attributes are important for a visual representation:"
   ]
  },
  {
   "cell_type": "code",
   "execution_count": null,
   "metadata": {},
   "outputs": [],
   "source": [
    "plt.rcParams['figure.figsize'] = (7.0, 7.0) \n",
    "with open(\"state_to_state.txt\") as f:\n",
    "    content = f.readlines()\n",
    "g = nx.Graph()\n",
    "for line in content:\n",
    "    arr = line.replace(\"\\n\", \"\").split(\"\\t\") \n",
    "    g.add_node(arr[0], lat=float(arr[1]), lon=float(arr[2]))\n",
    "    g.add_node(arr[4], lat=float(arr[5]), lon=float(arr[6]))\n",
    "    amt = float(arr[3])\n",
    "    g.add_edge(arr[0], arr[4], amount=amt)\n",
    "#for n in g.nodes():\n",
    "#    if n is None:\n",
    "#        g.remove_node(n)\n",
    "nx.draw(g)\n",
    "plt.show()"
   ]
  },
  {
   "cell_type": "markdown",
   "metadata": {},
   "source": [
    "Not very informative.... Specifying the position of the nodes and width of the edges from attribute data makes things much clearer:"
   ]
  },
  {
   "cell_type": "code",
   "execution_count": null,
   "metadata": {},
   "outputs": [],
   "source": [
    "plt.rcParams['figure.figsize'] = (15.0, 8.0)\n",
    "\n",
    "# print g.nodes(data=True)\n",
    "\n",
    "position = {}\n",
    "for n in g.nodes(data=True):\n",
    "    if n[0] is None:\n",
    "        continue\n",
    "    position[n[0]] = [n[1].get('lon', 0), n[1].get('lat', 0)]\n",
    "widths = [m[2][\"amount\"]/100000000 for m in g.edges(data=True)]\n",
    "nx.draw(g, position, width=widths, with_labels=True)\n",
    "plt.show()"
   ]
  },
  {
   "cell_type": "markdown",
   "metadata": {},
   "source": [
    "### Interactive Visualization\n",
    "\n",
    "Static visualizations can be problematic with network data. Dynamic and/or interactive visualizations can be more effective because they allow you to reduce the obscuring effect of multiple overlapping lines (the \"hairball\" effect). For example, this data represented as a static graph can be difficult to decipher.  It contains a the co-occurrence of different grant subjects among a set of grants."
   ]
  },
  {
   "cell_type": "code",
   "execution_count": null,
   "metadata": {},
   "outputs": [],
   "source": [
    "with open('subject_to_subject.txt','r') as f:\n",
    "    print (f.read())"
   ]
  },
  {
   "cell_type": "markdown",
   "metadata": {},
   "source": [
    "We can use the csv library to read the file into a dictionary:"
   ]
  },
  {
   "cell_type": "code",
   "execution_count": null,
   "metadata": {},
   "outputs": [],
   "source": [
    "plt.rcParams['figure.figsize'] = (3.0, 3.0) \n",
    "\n",
    "import csv\n",
    "\n",
    "g=nx.Graph()  #  Let's create an undirected graph to hold the \n",
    "with open('subject_to_subject.txt','r') as f:\n",
    "    data = f.read()\n",
    "reader = csv.DictReader(data.splitlines(), delimiter='\\t')\n",
    "for row in reader:\n",
    "    g.add_edge(row[\"label1\"], row[\"label2\"], amount=row[\"amount\"])\n",
    "nx.draw(g)\n",
    "plt.show()"
   ]
  },
  {
   "cell_type": "markdown",
   "metadata": {},
   "source": [
    "Whereas an interactive visualization of the same data can be easier to make sense of:\n",
    "\n",
    "http://localhost:8000/subject_chords.html"
   ]
  },
  {
   "cell_type": "markdown",
   "metadata": {},
   "source": [
    "We use JavaScript / D3 for many visualizations. In this case the data was read directly into a javascript data structure for visualization in D3:\n",
    "\n",
    "    d3.tsv(\"SubjectToSubject.txt\", function(subjectToSubject){\n",
    "        var i;\n",
    "        var nodes = []\n",
    "        var edges = []\n",
    "        for(i=0; i<subjectToSubject.length; i++){\n",
    "            if (nodes.indexOf(subjectToSubject[i].id1) < 0){\n",
    "                nodes.push(subjectToSubject[i].id1);\n",
    "            }\n",
    "            var e = {};\n",
    "            e[\"node1\"] = subjectToSubject[i].id1    ;\n",
    "            e[\"value\"] = subjectToSubject[i].count;\n",
    "            e[\"node2\"] = subjectToSubject[i].id2;\n",
    "            edges.push(e);\n",
    "        }\n",
    "\n",
    "        m = createMatrix(nodes, edges);\n",
    "        visualize(m, nodes);\n",
    "    });\n",
    "\n",
    "However, like many JavaScript visulization tools, D3 works well with data in JSON format.  A typical JSON graph format contains two lists of objects - one of nodes, another of links, similar to the gefx format in XML.  Fortunately, NetworkX has built-in support for generating JSON data in this format:"
   ]
  },
  {
   "cell_type": "code",
   "execution_count": null,
   "metadata": {},
   "outputs": [],
   "source": [
    "import networkx as nx\n",
    "from networkx.readwrite import json_graph\n",
    "json_graph.node_link_data(g, attrs= dict(id='name',  source='source', target='target', key='key'))"
   ]
  },
  {
   "cell_type": "markdown",
   "metadata": {},
   "source": [
    "Along related lines, a similarity matrix, where every node is connected to every other node by an edge with a distance or similarity measure, is indecipherable if there are too many nodes, as the number of edges is close to the square of the number of nodes:"
   ]
  },
  {
   "cell_type": "code",
   "execution_count": null,
   "metadata": {},
   "outputs": [],
   "source": [
    "plt.rcParams['figure.figsize'] = (5.0, 5.0) \n",
    "g = nx.complete_graph(20)\n",
    "pos=nx.spring_layout(g)\n",
    "nx.draw(g, pos=pos)\n",
    "plt.show()"
   ]
  },
  {
   "cell_type": "markdown",
   "metadata": {},
   "source": [
    "Whereas an interactive matrix can be much easier to understand:\n",
    "\n",
    "http://localhost:8000/foundation_matrix.html"
   ]
  },
  {
   "cell_type": "markdown",
   "metadata": {},
   "source": [
    "[test]: https://raw.githubusercontent.com/gmg444/dgd2016/master/Constellations_ClimateChangeCalifornia.png?raw=true"
   ]
  },
  {
   "cell_type": "markdown",
   "metadata": {},
   "source": [
    "In this notebook we demonstrated some basic ways of getting data into and out of NetworkX graphs.  In the next section, we'll look at some different kinds of networks and measures that can be used to describe their structure."
   ]
  },
  {
   "cell_type": "markdown",
   "metadata": {},
   "source": [
    "### References\n",
    "\n",
    "Aric A. Hagberg, Daniel A. Schult and Pieter J. Swart, “Exploring network structure, dynamics, and function using NetworkX”, in Proceedings of the 7th Python in Science Conference (SciPy2008), Gäel Varoquaux, Travis Vaught, and Jarrod Millman (Eds), (Pasadena, CA USA), pp. 11–15, Aug 2008\n",
    "\n",
    "Bostock, Michael, Vadim Ogievetsky, and Jeffrey Heer. \"D³ data-driven documents.\" Visualization and Computer Graphics, IEEE Transactions on 17.12 (2011): 2301-2309.\n",
    "\n",
    "Brath, Richard, and David Jonker. Graph Analysis and Visualization: Discovering Business Opportunity in Linked Data. John Wiley & Sons, 2015."
   ]
  },
  {
   "cell_type": "markdown",
   "metadata": {},
   "source": [
    "### Network Measures"
   ]
  },
  {
   "cell_type": "markdown",
   "metadata": {},
   "source": [
    "Scalar measures of graph structure can be useful for a few reasons:\n",
    "\n",
    "<ul>\n",
    "<li>They can help describe the structure of networks that are too big to visualize.</li>\n",
    "<li>They make it easier to compare network structure over time.</li>\n",
    "<li>The provide clues about the nature of the processes that created the graph data.</li>\n",
    "</ul>\n",
    "\n",
    "Unfortunately, no single number describes a network fully -- which ones are relevant depend on the perspective.  See for example this link for a list of some possible graph metrics:\n",
    "\n",
    "https://reference.wolfram.com/language/guide/GraphMeasures.html\n",
    "\n",
    "One thing that can be useful in considering different metrics is to look at a range of different network generation methods and see how the measures behave across those different methods.\n"
   ]
  },
  {
   "cell_type": "markdown",
   "metadata": {},
   "source": [
    "Let's re-import everything to make sure we have the packages we need:"
   ]
  },
  {
   "cell_type": "code",
   "execution_count": null,
   "metadata": {
    "collapsed": true
   },
   "outputs": [],
   "source": [
    "import networkx as nx \n",
    "import random as rand\n",
    "import pylab as plt\n",
    "import warnings # For Wakari only.\n",
    "warnings.filterwarnings(\"ignore\")"
   ]
  },
  {
   "cell_type": "markdown",
   "metadata": {},
   "source": [
    "### Sample Networks\n",
    "\n",
    "Networks from different domains come in different shapes and sizes.  Social networks, for exmaple, tend to have different structures than transportation networks or trophic networks in ecology.  Let's use NetworkX to generate some sample graphs to get a sense of some fo the possiblities.\n",
    "\n",
    "Graphs with many different properties can be generated by NetworkX functions. A list is here:\n",
    "\n",
    "https://networkx.github.io/documentation/networkx-1.10/reference/generators.html. \n",
    "\n",
    "But let's start creating them from scratch to get a sense of how some of the different graph metrics work.\n"
   ]
  },
  {
   "cell_type": "code",
   "execution_count": null,
   "metadata": {},
   "outputs": [],
   "source": [
    "plt.rcParams['figure.figsize'] = (5.0, 5.0)  # This sets the width of the plots.\n",
    "g = nx.Graph()\n",
    "n = 20\n",
    "g.add_nodes_from(range(n))\n",
    "for i in range(n):\n",
    "    for j in range(n):\n",
    "        if i != j:\n",
    "            g.add_edge(i, j) # Note that, for un-directed graphs (the default), \n",
    "                             # adding an edge j,i to a graph that already includes \n",
    "                             # i,j will not create a new edge. \n",
    "nx.draw(g)"
   ]
  },
  {
   "cell_type": "markdown",
   "metadata": {},
   "source": [
    "Alternatively:"
   ]
  },
  {
   "cell_type": "code",
   "execution_count": null,
   "metadata": {},
   "outputs": [],
   "source": [
    "nx.draw(nx.complete_graph(20))\n",
    "plt.show()"
   ]
  },
  {
   "cell_type": "markdown",
   "metadata": {},
   "source": [
    "We can verify that the graph is fully connected by calculating the **density**, which is the ratio of the number of edges to the maximum possible number of edges, and see in this case that it is 1.0:"
   ]
  },
  {
   "cell_type": "code",
   "execution_count": null,
   "metadata": {},
   "outputs": [],
   "source": [
    "m = nx.number_of_edges(g)\n",
    "n = nx.number_of_nodes(g)\n",
    "print (n)\n",
    "print (m)\n",
    "print (n *(n-1)/2)\n",
    "print (float(m) / (n * (n-1)/2.0))"
   ]
  },
  {
   "cell_type": "markdown",
   "metadata": {},
   "source": [
    "Or, using the built-in function:"
   ]
  },
  {
   "cell_type": "code",
   "execution_count": null,
   "metadata": {},
   "outputs": [],
   "source": [
    "nx.density(g)"
   ]
  },
  {
   "cell_type": "markdown",
   "metadata": {},
   "source": [
    "## Random Graph\n",
    "Most graphs contaning information about real phenomena, however, are not fully connected.  A very basic form of network is a random graph (otherwise known as an Erdos-Renyi graph), where edges are formed with a given probability:\n",
    "\n",
    "_See Newman Chapter 12 for a complete discussion of random graphs and their properties._\n",
    "\n",
    "Here's a function that implements a version of this that samples from a list of available edges:"
   ]
  },
  {
   "cell_type": "code",
   "execution_count": null,
   "metadata": {},
   "outputs": [],
   "source": [
    "def generate_random_graph(n, p):\n",
    "    g = nx.Graph()\n",
    "    g.add_nodes_from([i for i in range(n)])\n",
    "    m = []\n",
    "    for i in range(n):\n",
    "        for j in range(n):\n",
    "            if (i,j) not in m and [j,i] not in m and i != j:\n",
    "                m.append([i, j])\n",
    "    for i in range(int(n*(n-1) / 2)): # Iterate through the nodes and assign an avaialble edge with probabiliy p.\n",
    "        if rand.random() < p: # This selects a random subset with probability p.\n",
    "            index = rand.randint(0, len(m)-1)\n",
    "            g.add_edge(m[index][0], m[index][1])\n",
    "            del(m[index])\n",
    "    return g\n",
    "\n",
    "g = generate_random_graph(20, .1)\n",
    "nx.draw(g)\n",
    "plt.show()"
   ]
  },
  {
   "cell_type": "markdown",
   "metadata": {},
   "source": [
    "This is very similar to the built-in erdos_renyi_graph generation functions. \n",
    "\n",
    "http://networkx.github.io/documentation/networkx-1.8.1/reference/generated/networkx.generators.random_graphs.erdos_renyi_graph.html\n",
    "\n",
    "Experimenting with different values of p, we can see that the graph is fragmented into separate components when p is low.  We can use buil-in networkx functions to get a sense of how density relates to p and to the number of separate components.  Let's check out 50 different probabilities ranging from zero to 1:"
   ]
  },
  {
   "cell_type": "code",
   "execution_count": null,
   "metadata": {},
   "outputs": [],
   "source": [
    "d = []\n",
    "cc = []\n",
    "n = 10\n",
    "for i in range(50):\n",
    "    p = i / 50.0\n",
    "    # g = nx.erdos_renyi_graph(n, p)\n",
    "    g = generate_random_graph(n, p)\n",
    "    d.append(nx.density(g))\n",
    "    cc.append(len([c for c in nx.connected_components(g)]) / float(n))\n",
    "plt.plot(d)\n",
    "plt.plot(cc)\n",
    "plt.show()"
   ]
  },
  {
   "cell_type": "markdown",
   "metadata": {},
   "source": [
    "### Degree\n",
    "\n",
    "The overall density and number of components of the graph tells us a little bit about the number and distribution of edges, but nothing about how these edges are distributed among nodes.  \n",
    "\n",
    "One of the key descriptive tools for this is the __degree distribution__.  A node's degree is the number of edges connected to it.  We can access this for a graph using the built-in NetworkX function:"
   ]
  },
  {
   "cell_type": "code",
   "execution_count": null,
   "metadata": {},
   "outputs": [],
   "source": [
    "g = nx.erdos_renyi_graph(100, 0.5)  # Note that if we change the value of n and p, the shape of the distribution remains the same.\n",
    "degree_sequence=[x[1] for x in nx.degree(g)]\n",
    "plt.hist(list(degree_sequence), 10)\n",
    "plt.show()"
   ]
  },
  {
   "cell_type": "markdown",
   "metadata": {},
   "source": [
    "Now let's see how this looks compared to some other kinds of networks.  You can see that the distribution varies substantially with the different graph structures."
   ]
  },
  {
   "cell_type": "code",
   "execution_count": null,
   "metadata": {},
   "outputs": [],
   "source": [
    "plt.rcParams['figure.figsize'] = (18.0, 18.0)  # This sets the width of the plots.\n",
    "\n",
    "g = nx.erdos_renyi_graph(200, 0.2) # The first parameter is the number of nodes, the second is the probabilty of an edge\n",
    "plt.subplot(321)  # Defines a cell in a grid of plots\n",
    "plt.title(\"Random\")\n",
    "nx.draw(g) \n",
    "\n",
    "plt.subplot(322)\n",
    "plt.hist([x[1] for x in nx.degree(g)])\n",
    "\n",
    "g = nx.karate_club_graph() # Fixed social network graph\n",
    "plt.subplot(323)\n",
    "plt.title(\"Karate Club\")\n",
    "nx.draw(g) \n",
    "\n",
    "plt.subplot(324)\n",
    "plt.hist([x[1] for x in nx.degree(g)], 20)\n",
    "\n",
    "g = nx.geographical_threshold_graph(200, 50) # Graph created by setting node distance threshold\n",
    "plt.subplot(325)\n",
    "plt.title(\"Geographical\")\n",
    "nx.draw(g)\n",
    "\n",
    "plt.subplot(326)\n",
    "plt.hist([x[1] for x in nx.degree(g)], 20)\n",
    "plt.show()\n",
    "\n",
    "g = nx.ladder_graph(200)\n",
    "plt.subplot(321)\n",
    "plt.title(\"Ladder\")\n",
    "nx.draw(g)\n",
    "\n",
    "plt.subplot(322)\n",
    "plt.hist([x[1] for x in nx.degree(g)], 20)\n",
    "\n",
    "g = nx.barabasi_albert_graph(200, 2)  # Preferential attachment; second parameter is number of edges per node\n",
    "plt.title(\"Preferntial Attachment\")\n",
    "plt.subplot(323)\n",
    "nx.draw(g)\n",
    "\n",
    "plt.subplot(324)\n",
    "plt.hist([x[1] for x in nx.degree(g)], 20)\n",
    "\n",
    "g = nx.nx.connected_watts_strogatz_graph(200, 4, 0.2)  # Small world - third parameter is probability of random attachment\n",
    "plt.subplot(325)\n",
    "plt.title(\"Small World\")\n",
    "nx.draw(g)\n",
    "\n",
    "plt.subplot(326)\n",
    "plt.hist([x[1] for x in nx.degree(g)], 20)\n",
    "\n",
    "plt.show()"
   ]
  },
  {
   "cell_type": "markdown",
   "metadata": {},
   "source": [
    "## Graph with preferential attachment\n",
    "Most real-world networks don't form randomly.  For example, in social networks, links tend to form with nodes that have more links (your friends tend to have more friends than you do!)\n",
    "\n",
    "See Newman p. 498 for a more complete algorithm for generating a preferential attachment graph.  Here is a simple approximation.  You can see in this example that most nodes have few connections, but a few have many connections, in contrast to the random graph."
   ]
  },
  {
   "cell_type": "code",
   "execution_count": null,
   "metadata": {},
   "outputs": [],
   "source": [
    "plt.rcParams['figure.figsize'] = (18.0, 6.0)  \n",
    "g = nx.Graph()\n",
    "n = 50\n",
    "g.add_nodes_from(range(n))\n",
    "\n",
    "candidate_node_list = list(range(n))\n",
    "node_list = range(n)\n",
    "for i in node_list:\n",
    "    # Sampling from a list of nodes, two for every edge formed, will increase the dominance of eges with nodes.\n",
    "    found = False\n",
    "    while not found:\n",
    "        j = candidate_node_list[rand.randint(0, len(candidate_node_list)-1)]\n",
    "        if (not g.has_edge(i, j)) and (i != j):\n",
    "            g.add_edge(i, j)\n",
    "            candidate_node_list.append(j)\n",
    "            found = True\n",
    "\n",
    "plt.subplot(121)\n",
    "nx.draw(g)\n",
    "plt.subplot(122)\n",
    "plt.hist(sorted([x[1] for x in nx.degree(g)],reverse=True), 20)\n",
    "plt.show()"
   ]
  },
  {
   "cell_type": "markdown",
   "metadata": {},
   "source": [
    "This is somewhat similar to the barabasi-albert graph:"
   ]
  },
  {
   "cell_type": "code",
   "execution_count": null,
   "metadata": {},
   "outputs": [],
   "source": [
    "plt.rcParams['figure.figsize'] = (18.0, 6.0)  \n",
    "g =nx.barabasi_albert_graph(50, 1)\n",
    "plt.subplot(121)\n",
    "nx.draw(g)\n",
    "plt.subplot(122)\n",
    "plt.hist([x[1] for x in nx.degree(g)], 20)\n",
    "plt.show()"
   ]
  },
  {
   "cell_type": "markdown",
   "metadata": {},
   "source": [
    "### Small World Networks\n",
    "\n",
    "One thing that this kind of preferential attachment doesn't capture, is the tendency in some domains for edges to form between nodes that are adjacent to nodes that are connected.  For example, I am more likely to become acquainted with the a friend of my friend than with a random stranger.  At the same time, random aquaintances do form.\n",
    "\n",
    "Small-world networks capture this behavior by first connecting adjacent nodes, then the nodes adjacent to those, in addition to random connections, as described here:\n",
    "\n",
    "http://networkx.github.io/documentation/networkx-1.9/reference/generated/networkx.generators.random_graphs.watts_strogatz_graph.html#networkx.generators.random_graphs.watts_strogatz_graph\n",
    "\n",
    "https://en.wikipedia.org/wiki/Small-world_network\n",
    "\n",
    "Newman p. 552 has a succinct description of the algorithm."
   ]
  },
  {
   "cell_type": "code",
   "execution_count": null,
   "metadata": {},
   "outputs": [],
   "source": [
    "plt.rcParams['figure.figsize'] = (3, 3)  \n",
    "g = nx.connected_watts_strogatz_graph(20, 4, .1)  # The last parameter is the probability of a random connection.\n",
    "nx.draw(g)\n",
    "plt.show()"
   ]
  },
  {
   "cell_type": "markdown",
   "metadata": {},
   "source": [
    "### Clustering Coefficient\n",
    "\n",
    "This kind of structure can be captured by the clustering coefficient, which captures, how many of each nodes neighbors could be connected are connected:\n",
    "\n",
    "https://networkx.github.io/documentation/networkx-1.10/reference/generated/networkx.algorithms.cluster.clustering.html"
   ]
  },
  {
   "cell_type": "code",
   "execution_count": null,
   "metadata": {},
   "outputs": [],
   "source": [
    "plt.rcParams['figure.figsize'] = (5, 5)  \n",
    "# Note that, as we change the third parameter, the probability of making a random connection, \n",
    "# the clustering coefficient goes down.\n",
    "g = nx.connected_watts_strogatz_graph(200, 4, 1)\n",
    "plt.hist(list(nx.clustering(g).values()))\n",
    "plt.show()"
   ]
  },
  {
   "cell_type": "markdown",
   "metadata": {},
   "source": [
    "So far we've looked at three ways of generating graphs - random, preferential attachment, and small world.  There are many others, and when considering representing data in a network format, it can be useful to think of the way in which the network is formed to help shed light on which metrics might be the most relevant."
   ]
  },
  {
   "cell_type": "markdown",
   "metadata": {},
   "source": [
    "### Path-Based Attributes\n",
    "\n",
    "Graph traversal algrorithms allow us to quantify attributes of paths within a graph. A workhorse algorithm for this purpose is breadth-first search, described, for example here:  https://www.youtube.com/watch?v=ZDpaXRvUOSQ\n",
    "\n",
    "\n",
    "This also allows us to find the minimum distance between any two pairs of nodes in a connected graph or graph component.  The calculation can include a distance parameter or not."
   ]
  },
  {
   "cell_type": "code",
   "execution_count": null,
   "metadata": {},
   "outputs": [],
   "source": [
    "plt.rcParams['figure.figsize'] = (12.0, 12.0) \n",
    "\n",
    "import networkx as nx\n",
    "import random as rand\n",
    "import pylab as plt  # Required for drawing\n",
    "\n",
    "g = nx.Graph()\n",
    "n = 15\n",
    "p = 0.4\n",
    "g.add_nodes_from([i for i in range(n)])\n",
    "\n",
    "for u in range(n):\n",
    "    for v in range(u+1,n):\n",
    "        if rand.random() < p:\n",
    "            g.add_edge(u,v, d=round(rand.random(), 3))\n",
    "\n",
    "# Path length and shortest path can be calculated using a distance or cost (default is 1).\n",
    "print (nx.shortest_path_length(g, source=1, target=10, weight=\"d\"))\n",
    "print (nx.shortest_path(g, source=1, target=10, weight=\"d\"))\n",
    "print (nx.shortest_path_length(g, source=1, target=10))\n",
    "print (nx.shortest_path(g, source=1, target=10))\n",
    "pos = (nx.spring_layout(g))\n",
    "nx.draw(g, pos, with_labels=True, font_size=42, font_weight=\"bold\")\n",
    "edge_labels = nx.get_edge_attributes(g,'d')\n",
    "nx.draw_networkx_edge_labels(g, pos, labels=edge_labels, font_size=12)\n",
    "plt.show()"
   ]
  },
  {
   "cell_type": "markdown",
   "metadata": {},
   "source": [
    "### Centrality\n",
    "\n",
    "From this we can also derive several useful measures of a graph's structure:\n",
    "\n",
    "<ul>\n",
    "<li>The average shortest path</li>\n",
    "<li>The longest shortest path (the diameter)</li>\n",
    "<li>Which nodes are closest to all other nodes (closeness centrality)</li>\n",
    "<li>Which nodes or edges are included in the most shortest paths (betweenness centrality)</li>\n",
    "</ul>\n",
    "\n",
    "More information on some of these centrality measures is availble here:\n",
    "\n",
    "https://sites.google.com/site/networkanalysisacourse/schedule/an-introduction-to-centrality-measures   \n"
   ]
  },
  {
   "cell_type": "code",
   "execution_count": null,
   "metadata": {},
   "outputs": [],
   "source": [
    "plt.rcParams['figure.figsize'] = (12.0, 3.0) \n",
    "plt.subplot(131)\n",
    "plt.hist(list(nx.closeness_centrality(nx.erdos_renyi_graph(200, .2)).values()))\n",
    "plt.subplot(132)\n",
    "plt.hist(list(nx.closeness_centrality(nx.barabasi_albert_graph(200, 2)).values()))\n",
    "plt.subplot(133)\n",
    "plt.hist(list(nx.closeness_centrality(nx.connected_watts_strogatz_graph(200, 4, 0.1)).values()))\n",
    "plt.show()\n",
    "\n",
    "plt.subplot(131)\n",
    "plt.hist(list(nx.betweenness_centrality(nx.erdos_renyi_graph(200, .1)).values()))\n",
    "plt.subplot(132)\n",
    "plt.hist(list(nx.betweenness_centrality(nx.barabasi_albert_graph(200, 2)).values()))\n",
    "plt.subplot(133)\n",
    "plt.hist(list(nx.betweenness_centrality(nx.connected_watts_strogatz_graph(200, 4, 0.1)).values()))\n",
    "plt.show()"
   ]
  },
  {
   "cell_type": "markdown",
   "metadata": {},
   "source": [
    "While these overall distributions vary with the type of graph, often we are more interested in the attributes of a specific node.  To help quantify this, it can be useful to add node metrics as node attributes, then use these to control the graph output. For example:"
   ]
  },
  {
   "cell_type": "code",
   "execution_count": null,
   "metadata": {
    "collapsed": true
   },
   "outputs": [],
   "source": [
    "g = nx.erdos_renyi_graph(20, 0.1)\n",
    "# g = nx.barabasi_albert_graph(20, 5)\n",
    "# g = nx.connected_watts_strogatz_graph(20, 4, 0.2)\n",
    "nx.set_node_attributes(g, nx.degree(g), 'degree')\n",
    "nx.set_node_attributes(g, nx.betweenness_centrality(g), 'betweenness')\n",
    "nx.set_node_attributes(g, nx.closeness_centrality(g), 'closeness')"
   ]
  },
  {
   "cell_type": "markdown",
   "metadata": {},
   "source": [
    "We can then use these values in the graph diagram:"
   ]
  },
  {
   "cell_type": "code",
   "execution_count": null,
   "metadata": {},
   "outputs": [],
   "source": [
    "plt.rcParams['figure.figsize'] = (5.0, 5.0) \n",
    "pos=nx.spring_layout(g, k=1, iterations=20)\n",
    "node_sizes = [n[1][\"degree\"][n[0]]* 1000 for n in g.nodes(data=True)]\n",
    "node_colors = [n[1][\"betweenness\"]* 100 for n in g.nodes(data=True)]\n",
    "nx.draw(g,pos,node_color=node_colors,node_size=node_sizes,cmap=plt.cm.Blues, with_labels=True)\n",
    "plt.show()"
   ]
  },
  {
   "cell_type": "markdown",
   "metadata": {},
   "source": [
    "It can be interesting to see what the most and least central nodes are based on these measures:"
   ]
  },
  {
   "cell_type": "code",
   "execution_count": null,
   "metadata": {},
   "outputs": [],
   "source": [
    "d = sorted(g.nodes(data=True),  key=lambda x: x[1][\"degree\"][x[0]], reverse=True)\n",
    "print (\"Nodes with the most and least connections: \" + str(d[0]) + \"; \" + str(d[-1]))\n",
    "\n",
    "d = sorted(g.nodes(data=True),  key=lambda x: x[1][\"betweenness\"], reverse=True)\n",
    "print (\"Nodes with the highest and lowest betweenness: \" + str(d[0]) + \"; \" + str(d[-1]))\n",
    "\n",
    "d = sorted(g.nodes(data=True),  key=lambda x: x[1][\"closeness\"], reverse=True)\n",
    "print (\"Nodes with the highest and lowest closeness: \" + str(d[0]) + \"; \" + str(d[-1]))"
   ]
  },
  {
   "cell_type": "markdown",
   "metadata": {},
   "source": [
    "### Other Measures\n",
    "\n",
    "Another family of measures worth mentioning are based on adjacency matrices, where rows and columns represent vertices, and cells represent egdes.\n",
    "\n",
    "https://en.wikipedia.org/wiki/Adjacency_matrix\n",
    "\n",
    "If you consider each row to be analagous to a feature vector in machine learning applications, you can see how the network structure can be used to, for example, cluster similar nodes together by deriving distance measurements such as cosine similarity, correlation coefficient, or Euclidean distance, from rows the adjacency matrix.\n",
    "\n",
    "One important additional network metric based on this is __Assortativity__, that is, the extent to which nodes that have similar attributes are connected.  This can be expressed as a ratio between the number of connections within a group, and the number of expected connections if the edges were randomly distributed between nodes.\n",
    "\n",
    "Social stratification, by, for example, age, can result in assortative mixing in a network.\n",
    "\n",
    "https://networkx.github.io/documentation/networkx-1.9.1/reference/generated/networkx.algorithms.assortativity.attribute_assortativity_coefficient.html#networkx.algorithms.assortativity.attribute_assortativity_coefficient"
   ]
  },
  {
   "cell_type": "markdown",
   "metadata": {},
   "source": [
    "We can also look at graph metrics in action here:\n",
    "\n",
    "http://localhost:8000/city_subject_trends.html"
   ]
  },
  {
   "cell_type": "markdown",
   "metadata": {},
   "source": [
    "### References\n",
    "\n",
    "Newman, Mark. Networks: an introduction. Oxford University Press, Oxford, 2010."
   ]
  }
 ],
 "metadata": {
  "anaconda-cloud": {},
  "kernelspec": {
   "display_name": "Python 3",
   "language": "python",
   "name": "python3"
  },
  "language_info": {
   "codemirror_mode": {
    "name": "ipython",
    "version": 3
   },
   "file_extension": ".py",
   "mimetype": "text/x-python",
   "name": "python",
   "nbconvert_exporter": "python",
   "pygments_lexer": "ipython3",
   "version": "3.5.4"
  }
 },
 "nbformat": 4,
 "nbformat_minor": 1
}
